{
 "cells": [
  {
   "cell_type": "code",
   "execution_count": null,
   "metadata": {},
   "outputs": [],
   "source": [
    "import networkx as nx\n",
    "import numpy as np\n",
    "import matplotlib"
   ]
  },
  {
   "cell_type": "code",
   "execution_count": null,
   "metadata": {},
   "outputs": [],
   "source": [
    "## note: this is a bit weird way of transforming the data to suitable format\n",
    "data = open('data/network_clustering.csv', 'rb')\n",
    "\n",
    "network  = nx.read_edgelist( data, delimiter = ',', create_using=nx.Graph() )"
   ]
  },
  {
   "cell_type": "code",
   "execution_count": null,
   "metadata": {},
   "outputs": [],
   "source": [
    "nx.draw_networkx( network )"
   ]
  },
  {
   "cell_type": "markdown",
   "metadata": {},
   "source": [
    "## Community detection\n",
    "\n",
    "See the [documentation](https://networkx.github.io/documentation/stable/reference/algorithms/community.html) for a full list of various community detection algorithms.\n",
    "\n",
    "Unlike in R, networkx returns all communities which could be extracted using the algorithm. Therefore, we need to evaluate how good that is, e.g., what is the number of ties within the community and number of ties not outside the community compared with all ties. The higher the number, the better the community -- computationally."
   ]
  },
  {
   "cell_type": "code",
   "execution_count": null,
   "metadata": {},
   "outputs": [],
   "source": [
    "from networkx.algorithms import community"
   ]
  },
  {
   "cell_type": "code",
   "execution_count": null,
   "metadata": {},
   "outputs": [],
   "source": [
    "for com in community.girvan_newman( network ):\n",
    "    print( com )\n",
    "    print( \"There are\", len( com ), \"communities\" )\n",
    "    print( community.performance( network, com ) )"
   ]
  },
  {
   "cell_type": "markdown",
   "metadata": {},
   "source": [
    "### Using clustering results\n",
    "\n",
    "The clustering code provides a list of nodes and where they belong.\n",
    "\n",
    "You may even use more advanced tricks for [plotting](https://stackoverflow.com/questions/43541376/how-to-draw-communities-with-networkx) communities."
   ]
  },
  {
   "cell_type": "code",
   "execution_count": null,
   "metadata": {},
   "outputs": [],
   "source": [
    "communities = list( community.girvan_newman( network ) )[1]\n",
    "print( communities )"
   ]
  },
  {
   "cell_type": "code",
   "execution_count": null,
   "metadata": {},
   "outputs": [],
   "source": [
    "# for coloring this list, we need to have information in which cluster each node belongs in\n",
    "# this taks care of it, by creating list of colors and assigning each node the the number where it belongs to\n",
    "\n",
    "colors = [-1 for i in range( len( network.nodes ) )]\n",
    "for i, nodes in enumerate( communities ):\n",
    "    for n in nodes:\n",
    "        n = int(n) - 1\n",
    "        colors[ n ] = i\n",
    "\n",
    "pos = nx.spring_layout( network )\n",
    "nx.draw_networkx_nodes( network, pos, node_color = colors  )\n",
    "nx.draw_networkx_edges( network, pos )"
   ]
  },
  {
   "cell_type": "markdown",
   "metadata": {},
   "source": [
    "## Task\n",
    "\n",
    "* move from the simple example dataset to organization x dataset\n",
    "* compare more clustering algorithms, do you find differences in results?"
   ]
  },
  {
   "cell_type": "code",
   "execution_count": null,
   "metadata": {},
   "outputs": [],
   "source": []
  }
 ],
 "metadata": {
  "kernelspec": {
   "display_name": "Python 3",
   "language": "python",
   "name": "python3"
  },
  "language_info": {
   "codemirror_mode": {
    "name": "ipython",
    "version": 3
   },
   "file_extension": ".py",
   "mimetype": "text/x-python",
   "name": "python",
   "nbconvert_exporter": "python",
   "pygments_lexer": "ipython3",
   "version": "3.7.3"
  }
 },
 "nbformat": 4,
 "nbformat_minor": 2
}
