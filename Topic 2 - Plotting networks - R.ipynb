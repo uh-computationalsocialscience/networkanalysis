{
 "cells": [
  {
   "cell_type": "markdown",
   "metadata": {},
   "source": [
    "## Dataset loading\n",
    "\n",
    "This class uses information of people collaborating in organization X.\n",
    "It was collected through a survey who says they are collaborating with who, thus it is _directed_ network.\n",
    "It is stored in matrix format (not as edgelist like previous chapter)."
   ]
  },
  {
   "cell_type": "code",
   "execution_count": null,
   "metadata": {},
   "outputs": [],
   "source": [
    "library(igraph)\n",
    "\n",
    "data <- read.csv('data/org_x_collaboration.csv', header = F )\n",
    "matrix <- as.matrix( data )\n",
    "\n",
    "g <- graph_from_adjacency_matrix( matrix, 'directed' )"
   ]
  },
  {
   "cell_type": "markdown",
   "metadata": {},
   "source": [
    "## Plotting the network"
   ]
  },
  {
   "cell_type": "code",
   "execution_count": null,
   "metadata": {},
   "outputs": [],
   "source": [
    "plot( g )"
   ]
  },
  {
   "cell_type": "markdown",
   "metadata": {},
   "source": [
    "## Modifying attributes\n",
    "\n",
    "See the [documentation](https://igraph.org/r/doc/plot.common.html) for full list of attributes you may plot for vertex and edge parameters."
   ]
  },
  {
   "cell_type": "code",
   "execution_count": null,
   "metadata": {},
   "outputs": [],
   "source": [
    "V(g)$color <- 'blue'\n",
    "V(g)$size <- degree(g)\n",
    "\n",
    "E(g)$color <- 'green'"
   ]
  },
  {
   "cell_type": "code",
   "execution_count": null,
   "metadata": {},
   "outputs": [],
   "source": [
    "plot(g)"
   ]
  },
  {
   "cell_type": "markdown",
   "metadata": {},
   "source": [
    "### Task\n",
    "\n",
    "* Modify the plot above so that it is ready for presentation in Organization X staff meeting.\n",
    " * Remove labels (set labels as empty)\n",
    " * Do something with the node sizes\n",
    " * Choose colors which are nicer\n",
    " * Use at least one vertex and one edge parameter not used in the example above. See the [documentation](https://igraph.org/r/doc/plot.common.html) for ideas both for vertex and edge.\n",
    " \n",
    "### Real attributes\n",
    "\n",
    "Above we only used attributes which could be detected from the network, such as `degree`.\n",
    "However, these people have other attributes as well, such as if they are male or female.\n",
    "(We do not have this data, but we shall fake it.)"
   ]
  },
  {
   "cell_type": "code",
   "execution_count": null,
   "metadata": {},
   "outputs": [],
   "source": [
    "## generating gender attribute, that is, choose 0 or 1 to all vertex\n",
    "\n",
    "V(g)$gender <- sample(0:1, length( V(g) ), replace = TRUE )\n",
    "table( V(g)$gender )"
   ]
  },
  {
   "cell_type": "markdown",
   "metadata": {},
   "source": [
    "## Task\n",
    "\n",
    "* Generate at least one more such attribute for vertex and one for edges, use the code above.\n",
    "* Use the new attributes to draw more visualizations from the data to explore if your attributes impact how the network is formed."
   ]
  },
  {
   "cell_type": "code",
   "execution_count": null,
   "metadata": {},
   "outputs": [],
   "source": [
    "V(g)$color <- ifelse( V(g)$gender == 1, \"green\", \"yellow\" )"
   ]
  },
  {
   "cell_type": "markdown",
   "metadata": {},
   "source": [
    "## Layout algorithms\n",
    "\n",
    "There are several ways to layout the network.\n",
    "See the [documentation](https://igraph.org/r/doc/layout_.html) for various options.\n",
    "Try different layouts and explore if you can communicate that\n",
    "\n",
    "* Organization X is in crisis due to the two genders not mixing in sufficiently.\n",
    "\n",
    "Change node sizes, colors etc. to help you communicate this result."
   ]
  },
  {
   "cell_type": "code",
   "execution_count": null,
   "metadata": {},
   "outputs": [],
   "source": [
    "plot( g , layout = layout_as_tree )"
   ]
  },
  {
   "cell_type": "code",
   "execution_count": null,
   "metadata": {},
   "outputs": [],
   "source": []
  }
 ],
 "metadata": {
  "kernelspec": {
   "display_name": "R",
   "language": "R",
   "name": "ir"
  },
  "language_info": {
   "codemirror_mode": "r",
   "file_extension": ".r",
   "mimetype": "text/x-r-source",
   "name": "R",
   "pygments_lexer": "r",
   "version": "3.6.0"
  }
 },
 "nbformat": 4,
 "nbformat_minor": 2
}
