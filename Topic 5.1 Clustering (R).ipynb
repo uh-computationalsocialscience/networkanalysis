{
 "cells": [
  {
   "cell_type": "code",
   "execution_count": null,
   "metadata": {},
   "outputs": [],
   "source": [
    "library(igraph)"
   ]
  },
  {
   "cell_type": "code",
   "execution_count": null,
   "metadata": {},
   "outputs": [],
   "source": [
    "data <- read.csv('data/network_clustering.csv', header = F )\n",
    "data <- as.matrix( data )\n",
    "network <- graph_from_edgelist( data, directed = FALSE )"
   ]
  },
  {
   "cell_type": "code",
   "execution_count": null,
   "metadata": {},
   "outputs": [],
   "source": [
    "plot( network )"
   ]
  },
  {
   "cell_type": "markdown",
   "metadata": {},
   "source": [
    "## Community detection\n",
    "\n",
    "See the [documentation](https://igraph.org/r/doc/communities.html) for a full list of various community detection approaches."
   ]
  },
  {
   "cell_type": "code",
   "execution_count": null,
   "metadata": {},
   "outputs": [],
   "source": [
    "cluster_optimal( network )"
   ]
  },
  {
   "cell_type": "code",
   "execution_count": null,
   "metadata": {},
   "outputs": [],
   "source": [
    "cluster_edge_betweenness( network )"
   ]
  },
  {
   "cell_type": "code",
   "execution_count": null,
   "metadata": {},
   "outputs": [],
   "source": [
    "cluster_label_prop( network )"
   ]
  },
  {
   "cell_type": "code",
   "execution_count": null,
   "metadata": {},
   "outputs": [],
   "source": [
    "cluster_leading_eigen( network )"
   ]
  },
  {
   "cell_type": "markdown",
   "metadata": {},
   "source": [
    "### Using results\n",
    "\n",
    "The call `membership` provides a numerical value indicating to which community each edge belongs to.\n",
    "\n",
    "This detail can be used in `plot` by providing them there, but the membership could also be used - for example - as part of regression model."
   ]
  },
  {
   "cell_type": "code",
   "execution_count": null,
   "metadata": {},
   "outputs": [],
   "source": [
    "clusters <- cluster_leading_eigen( network )\n",
    "V(network)$cluster <- membership( clusters )"
   ]
  },
  {
   "cell_type": "code",
   "execution_count": null,
   "metadata": {},
   "outputs": [],
   "source": [
    "plot(clusters, network )"
   ]
  },
  {
   "cell_type": "code",
   "execution_count": null,
   "metadata": {},
   "outputs": [],
   "source": [
    "## genering random variables\n",
    "V(network)$gender <- as.factor( sample(0:1, length( V(network) ), replace = TRUE ) )\n",
    "V(network)$age <- sample(18:63, length( V(network) ), replace = TRUE )\n",
    "V(network)$education <- as.factor( sample(1:9, length( V(network) ), replace = TRUE ) )"
   ]
  },
  {
   "cell_type": "code",
   "execution_count": null,
   "metadata": {},
   "outputs": [],
   "source": [
    "model <- lm( V(network)$cluster ~ V(network)$gender + V(network)$age + V(network)$education )\n",
    "summary( model )"
   ]
  },
  {
   "cell_type": "markdown",
   "metadata": {},
   "source": [
    "## Task\n",
    "\n",
    "* move from the simple example dataset to organization x dataset\n",
    "* compare more community detection algorithms, do you find differences in results?"
   ]
  },
  {
   "cell_type": "code",
   "execution_count": null,
   "metadata": {},
   "outputs": [],
   "source": []
  }
 ],
 "metadata": {
  "kernelspec": {
   "display_name": "R",
   "language": "R",
   "name": "ir"
  },
  "language_info": {
   "codemirror_mode": "r",
   "file_extension": ".r",
   "mimetype": "text/x-r-source",
   "name": "R",
   "pygments_lexer": "r",
   "version": "3.6.0"
  }
 },
 "nbformat": 4,
 "nbformat_minor": 2
}
