{
 "cells": [
  {
   "cell_type": "markdown",
   "metadata": {},
   "source": [
    "## Dataset loading\n",
    "\n",
    "This class uses information of people collaborating in organization X.\n",
    "It was collected through a survey who says they are collaborating with who, thus it is _directed_ network.\n",
    "It is stored in matrix format (not as edgelist like previous chapter)."
   ]
  },
  {
   "cell_type": "code",
   "execution_count": null,
   "metadata": {},
   "outputs": [],
   "source": [
    "import networkx as nx\n",
    "import numpy as np\n",
    "import matplotlib\n",
    "\n",
    "## note: this is a bit weird way of transforming the data to suitable format\n",
    "data = open('data/org_x_collaboration.csv', 'r')\n",
    "data = data.read().strip()\n",
    "data = data.replace('\\n', ';')    \n",
    "data = np.matrix( data )\n",
    "\n",
    "network  = nx.from_numpy_matrix( data, create_using=nx.DiGraph)"
   ]
  },
  {
   "cell_type": "markdown",
   "metadata": {},
   "source": [
    "## Plotting the network\n",
    "\n",
    "Note that `networkx` recommends plotting the networks with [other tools](https://networkx.github.io/documentation/stable/reference/drawing.html). "
   ]
  },
  {
   "cell_type": "code",
   "execution_count": null,
   "metadata": {},
   "outputs": [],
   "source": [
    "nx.draw_networkx( network )"
   ]
  },
  {
   "cell_type": "markdown",
   "metadata": {},
   "source": [
    "## Modifying attributes\n",
    "\n",
    "See the [documentation](https://networkx.github.io/documentation/stable/reference/generated/networkx.drawing.nx_pylab.draw_networkx.html) for full list of attributes you may plot for vertex and edge parameters."
   ]
  },
  {
   "cell_type": "code",
   "execution_count": null,
   "metadata": {},
   "outputs": [],
   "source": [
    "nx.draw_networkx( network, node_color = \"blue\", node_size = nx.degree( network ), edge_color = \"pink\" )"
   ]
  },
  {
   "cell_type": "markdown",
   "metadata": {},
   "source": [
    "### Task\n",
    "\n",
    "* Modify the plot above so that it is ready for presentation in Organization X staff meeting.\n",
    " * Remove labels (set labels as empty)\n",
    " * Do something with the node sizes\n",
    " * Choose colors which are nicer\n",
    " * Use at least one vertex and one edge parameter not used in the example above. See the [documentation](https://networkx.github.io/documentation/stable/reference/generated/networkx.drawing.nx_pylab.draw_networkx.html) for ideas both for vertex and edge.\n",
    " \n",
    "### Real attributes\n",
    "\n",
    "Above we only used attributes which could be detected from the network, such as `degree`.\n",
    "However, these people have other attributes as well, such as if they are male or female.\n",
    "(We do not have this data, but we shall fake it.)"
   ]
  },
  {
   "cell_type": "code",
   "execution_count": null,
   "metadata": {},
   "outputs": [],
   "source": [
    "## generating gender attribute, that is, choose 0 or 1 to all vertex\n",
    "import random\n",
    "import collections\n",
    "\n",
    "gender = random.choices( [0, 1], k = 51 )\n",
    "collections.Counter( gender )"
   ]
  },
  {
   "cell_type": "markdown",
   "metadata": {},
   "source": [
    "## Task\n",
    "\n",
    "* Generate at least one more such attribute for vertex and one for edges, use the code above.\n",
    "* Use the new attributes to draw more visualizations from the data to explore if your attributes impact how the network is formed."
   ]
  },
  {
   "cell_type": "code",
   "execution_count": null,
   "metadata": {},
   "outputs": [],
   "source": [
    "gender_color = map( lambda x: 'green' if x == 1 else 'yellow', gender ) ## generating a list with real color names"
   ]
  },
  {
   "cell_type": "markdown",
   "metadata": {},
   "source": [
    "## Layout algorithms\n",
    "\n",
    "There are several ways to layout the network.\n",
    "See the [documentation](https://networkx.github.io/documentation/stable/reference/drawing.html#module-networkx.drawing.layout) for various options.\n",
    "Try different layouts and explore if you can communicate that\n",
    "\n",
    "* Organization X is in crisis due to the two genders not mixing in sufficiently.\n",
    "\n",
    "Change node sizes, colors etc. to help you communicate this result."
   ]
  },
  {
   "cell_type": "code",
   "execution_count": null,
   "metadata": {},
   "outputs": [],
   "source": [
    "nx.draw_networkx( network, layout = nx.circular_layout( network ) )"
   ]
  },
  {
   "cell_type": "code",
   "execution_count": null,
   "metadata": {},
   "outputs": [],
   "source": []
  }
 ],
 "metadata": {
  "kernelspec": {
   "display_name": "Python 3",
   "language": "python",
   "name": "python3"
  },
  "language_info": {
   "codemirror_mode": {
    "name": "ipython",
    "version": 3
   },
   "file_extension": ".py",
   "mimetype": "text/x-python",
   "name": "python",
   "nbconvert_exporter": "python",
   "pygments_lexer": "ipython3",
   "version": "3.7.3"
  }
 },
 "nbformat": 4,
 "nbformat_minor": 2
}
