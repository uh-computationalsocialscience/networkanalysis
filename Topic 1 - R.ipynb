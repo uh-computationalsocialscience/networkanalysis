{
 "cells": [
  {
   "cell_type": "code",
   "execution_count": null,
   "metadata": {},
   "outputs": [],
   "source": [
    "library(igraph)"
   ]
  },
  {
   "cell_type": "markdown",
   "metadata": {},
   "source": [
    "## Load network data\n",
    "\n",
    "In this case the data file is in edgelist format. The network could be also read as [adjacency matrix](https://igraph.org/r/doc/graph_from_adjacency_matrix.html) or [data frame](https://igraph.org/r/doc/graph_from_data_frame.html) which allows also putting in metadata which describes nodes."
   ]
  },
  {
   "cell_type": "code",
   "execution_count": null,
   "metadata": {},
   "outputs": [],
   "source": [
    "data <- read.csv('data/network_simple.csv')\n",
    "data <- as.matrix( data )\n",
    "network <- graph_from_edgelist( data, directed = FALSE )"
   ]
  },
  {
   "cell_type": "markdown",
   "metadata": {},
   "source": [
    "Guess what these two measurements could be?"
   ]
  },
  {
   "cell_type": "code",
   "execution_count": null,
   "metadata": {},
   "outputs": [],
   "source": [
    "ecount( network )\n",
    "vcount( network )"
   ]
  },
  {
   "cell_type": "markdown",
   "metadata": {},
   "source": [
    "## Degree\n",
    "\n",
    "In networks, degree measures the number of ties each connection has.\n",
    "\n",
    "- Exercise: compare how degree changes if the network is directed or non-directed. Why?\n",
    "- Exercise: Check the [documentation](https://igraph.org/r/doc/degree.html) to calculate only _in_-degree and _out_-degree."
   ]
  },
  {
   "cell_type": "code",
   "execution_count": null,
   "metadata": {},
   "outputs": [],
   "source": [
    "degree( network )\n",
    "summary( degree( network ) )\n",
    "hist( degree( network ) )"
   ]
  },
  {
   "cell_type": "markdown",
   "metadata": {},
   "source": [
    "## Centrality measurements\n",
    "\n",
    "![Example of network where A connects two clusters](images/betweeness.png \"\")\n",
    "\n",
    "* What kind of phenomena might have a network like this? Give three examples.\n",
    "* What is the degree of node `A` and what is the degree of node `B`?\n",
    "* What happens in the network if node `A` is removed?\n",
    "\n",
    "As the example illustrates, degree alone does not fully account which roles nodes have in the network.\n",
    "Therefore, network analysis has established various other tools to describe nodes in the network, such as\n",
    "\n",
    "* [betweeness](https://igraph.org/r/doc/betweenness.html)\n",
    "* [closeness](https://igraph.org/r/doc/closeness.html)\n",
    "* [eigen_centrality](https://igraph.org/r/doc/eigen_centrality.html)\n",
    "* [hub_score](https://igraph.org/r/doc/hub_score.html)\n",
    "* [authority_score](https://igraph.org/r/doc/authority_score.html)\n",
    "\n",
    "Try out these and explore how different scores give different idea of nodes in the network.\n",
    "\n",
    "Note how we can assing each node (vertex) or tie (edge) values using R-notation: `V( network_object )$attribute_name <-` or similary with `E( network_object )`"
   ]
  },
  {
   "cell_type": "code",
   "execution_count": null,
   "metadata": {},
   "outputs": [],
   "source": [
    "V(network)$betweeness <- betweenness( network ) ## storing betweeness as a vertex attribute\n",
    "summary( V(network)$betweeness )\n",
    "hist( V(network)$betweeness )"
   ]
  },
  {
   "cell_type": "code",
   "execution_count": null,
   "metadata": {},
   "outputs": [],
   "source": [
    "V(network)[1:4]$betweeness ## only nodes 1-4 and their betweeness"
   ]
  },
  {
   "cell_type": "markdown",
   "metadata": {},
   "source": [
    "## Beyond node-level analysis\n",
    "\n",
    "Above examples have focused on understanding measurements at the node level.\n",
    "However, networks can also be studies as a whole. These include\n",
    "\n",
    "* [edge_density](https://igraph.org/r/doc/edge_density.html)\n",
    "* [diameter](https://igraph.org/r/doc/diameter.html)\n",
    "* [mean_distance](https://igraph.org/r/doc/distances.html)\n",
    "* [transitivity](https://igraph.org/r/doc/transitivity.html)"
   ]
  },
  {
   "cell_type": "code",
   "execution_count": null,
   "metadata": {},
   "outputs": [],
   "source": [
    "edge_density( network )"
   ]
  },
  {
   "cell_type": "markdown",
   "metadata": {},
   "source": [
    "## Final thinking\n",
    "\n",
    "Where could you use these different measurements?"
   ]
  },
  {
   "cell_type": "code",
   "execution_count": null,
   "metadata": {},
   "outputs": [],
   "source": []
  }
 ],
 "metadata": {
  "kernelspec": {
   "display_name": "R",
   "language": "R",
   "name": "ir"
  },
  "language_info": {
   "codemirror_mode": "r",
   "file_extension": ".r",
   "mimetype": "text/x-r-source",
   "name": "R",
   "pygments_lexer": "r",
   "version": "3.6.0"
  }
 },
 "nbformat": 4,
 "nbformat_minor": 2
}
