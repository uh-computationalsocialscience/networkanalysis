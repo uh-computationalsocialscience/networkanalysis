{
 "cells": [
  {
   "cell_type": "code",
   "execution_count": null,
   "metadata": {},
   "outputs": [],
   "source": [
    "install.packages( c(\"ergm\", \"intergraph\") )"
   ]
  },
  {
   "cell_type": "markdown",
   "metadata": {},
   "source": [
    "## Dataset loading\n",
    "\n",
    "This class uses information of people collaborating in organization X.\n",
    "It was collected through a survey who says they are collaborating with who, thus it is _directed_ network.\n",
    "It is stored in matrix format (not as edgelist like previous chapter)."
   ]
  },
  {
   "cell_type": "code",
   "execution_count": null,
   "metadata": {},
   "outputs": [],
   "source": [
    "library(igraph)\n",
    "\n",
    "data <- read.csv('data/org_x_collaboration.csv', header = F )\n",
    "matrix <- as.matrix( data )\n",
    "\n",
    "g <- graph_from_adjacency_matrix( matrix, 'directed' )"
   ]
  },
  {
   "cell_type": "markdown",
   "metadata": {},
   "source": [
    "## Faking some attributes"
   ]
  },
  {
   "cell_type": "code",
   "execution_count": null,
   "metadata": {},
   "outputs": [],
   "source": [
    "plot( g, layout = layout_with_fr, vertex.label = '' )"
   ]
  },
  {
   "cell_type": "code",
   "execution_count": null,
   "metadata": {},
   "outputs": [],
   "source": [
    "## let's add some attributes to your network\n",
    "V(g)$gender <- as.factor( sample(0:1, length( V(g) ), replace = TRUE ) )\n",
    "V(g)$age <- sample(18:63, length( V(g) ), replace = TRUE )\n",
    "V(g)$education <- as.factor( sample(1:19, length( V(g) ), replace = TRUE ) )\n",
    "\n",
    "## transform network from igraph to network\n",
    "library(intergraph)\n",
    "g <- asNetwork( g )"
   ]
  },
  {
   "cell_type": "markdown",
   "metadata": {},
   "source": [
    "# Enter Exponential Graph Models (ERGM)\n",
    "\n",
    "So next we will conduct exponential graph model on the network based on\n",
    "\n",
    "* characteristics of the network\n",
    "* attributes from the networks\n",
    "\n",
    "There are many terms you can use to model what occurs in the network, see details from the [reference](https://cran.r-project.org/web/packages/ergm/ergm.pdf)."
   ]
  },
  {
   "cell_type": "code",
   "execution_count": null,
   "metadata": {},
   "outputs": [],
   "source": [
    "library(ergm)\n",
    "model <- ergm(g ~ edges + nodematch( \"gender\" ) + absdiff( \"age\" ) )"
   ]
  },
  {
   "cell_type": "code",
   "execution_count": null,
   "metadata": {},
   "outputs": [],
   "source": [
    "summary( model )"
   ]
  },
  {
   "cell_type": "code",
   "execution_count": null,
   "metadata": {},
   "outputs": [],
   "source": [
    "coef(model) ## the model coefficeints"
   ]
  },
  {
   "cell_type": "code",
   "execution_count": null,
   "metadata": {},
   "outputs": [],
   "source": [
    "plogis( coef(model)[['edges']] ) ## likelyhood of a tie between two people\n",
    "plogis( coef(model)[['edges']] + coef(model)[['nodematch.gender']] ) ## likelyhood of a tie and they have the same gender"
   ]
  },
  {
   "cell_type": "markdown",
   "metadata": {},
   "source": [
    "* Exercise: Using the network above, try to find a model with better fit. Try different structural (network characteristics) and attribute based variables.\n",
    "* Based on your best model, how much does it increase the likelyhood of ties\n",
    "   * if the persons are 10 years apart and have the same gender\n",
    "   * if they are both male\n",
    "   \n",
    "   \n",
    "_Just to set some expectations: the data here is random, so the models are most likely random as well_"
   ]
  },
  {
   "cell_type": "code",
   "execution_count": null,
   "metadata": {},
   "outputs": [],
   "source": []
  }
 ],
 "metadata": {
  "kernelspec": {
   "display_name": "R",
   "language": "R",
   "name": "ir"
  },
  "language_info": {
   "codemirror_mode": "r",
   "file_extension": ".r",
   "mimetype": "text/x-r-source",
   "name": "R",
   "pygments_lexer": "r",
   "version": "3.6.0"
  }
 },
 "nbformat": 4,
 "nbformat_minor": 2
}
