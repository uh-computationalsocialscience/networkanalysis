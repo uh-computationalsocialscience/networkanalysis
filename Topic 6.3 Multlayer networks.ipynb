{
 "cells": [
  {
   "cell_type": "markdown",
   "metadata": {},
   "source": [
    "## Installation and setup\n",
    "\n",
    "First you need to download the [library](https://bitbucket.org/bolozna/multilayer-networks-library/downloads/) we are using, unzip the library to same folder where your code is than then add that to the path manually."
   ]
  },
  {
   "cell_type": "code",
   "execution_count": null,
   "metadata": {},
   "outputs": [],
   "source": [
    "import sys\n",
    "sys.path.append('./multilayer-networks-library/')"
   ]
  },
  {
   "cell_type": "code",
   "execution_count": null,
   "metadata": {},
   "outputs": [],
   "source": [
    "from pymnet import *\n",
    "import csv"
   ]
  },
  {
   "cell_type": "markdown",
   "metadata": {},
   "source": [
    "## Creating the network\n",
    "\n",
    "1. Create a new network object\n",
    "1. Add layers\n",
    "1. Add all nodes\n",
    "1. Add connections per layer"
   ]
  },
  {
   "cell_type": "code",
   "execution_count": null,
   "metadata": {},
   "outputs": [],
   "source": [
    "network = MultiplexNetwork(couplings='categorical')"
   ]
  },
  {
   "cell_type": "code",
   "execution_count": null,
   "metadata": {},
   "outputs": [],
   "source": [
    "layers = ['layer1', 'layer2']\n",
    "\n",
    "for layer in layers:\n",
    "    network.add_layer( layer )"
   ]
  },
  {
   "cell_type": "code",
   "execution_count": null,
   "metadata": {},
   "outputs": [],
   "source": [
    "nodes = ['node1', 'node2', 'node3', 'node4']\n",
    "\n",
    "for n in nodes:\n",
    "    network.add_node( n )"
   ]
  },
  {
   "cell_type": "code",
   "execution_count": null,
   "metadata": {},
   "outputs": [],
   "source": [
    "import itertools\n",
    "import math\n",
    "import random\n",
    "\n",
    "for layer in layers:\n",
    "    \n",
    "    for pair1, pair2 in itertools.permutations( nodes, 2 ): ## populate the dataset, here through each layer and then each pair\n",
    "        network[ pair1, layer ][ pair2, layer ] = random.randrange(0, 5)"
   ]
  },
  {
   "cell_type": "markdown",
   "metadata": {},
   "source": [
    "## Drawing etc.\n",
    "\n",
    "See [documentation](http://www.mkivela.com/pymnet/reference.html) for all opportunities."
   ]
  },
  {
   "cell_type": "code",
   "execution_count": null,
   "metadata": {},
   "outputs": [],
   "source": [
    "fig = draw(network,\n",
    "    layout=\"spring\",\n",
    "    #layerLabelRule={},\n",
    "    #nodeLabelRule={},\n",
    "    defaultNodeLabelSize = 0.1,\n",
    "    defaultEdgeWidth = 0.25,\n",
    "    defaultEdgeAlpha= 0.3,\n",
    "    nodeSizeRule={\"rule\":\"degree\",\"propscale\":0.05},\n",
    "    edgeColorRule={\"rule\":\"edgeweight\",\"colormap\":\"jet\",\"scaleby\":0.1}\n",
    ")"
   ]
  },
  {
   "cell_type": "code",
   "execution_count": null,
   "metadata": {},
   "outputs": [],
   "source": []
  }
 ],
 "metadata": {
  "kernelspec": {
   "display_name": "Python 3",
   "language": "python",
   "name": "python3"
  },
  "language_info": {
   "codemirror_mode": {
    "name": "ipython",
    "version": 3
   },
   "file_extension": ".py",
   "mimetype": "text/x-python",
   "name": "python",
   "nbconvert_exporter": "python",
   "pygments_lexer": "ipython3",
   "version": "3.7.3"
  }
 },
 "nbformat": 4,
 "nbformat_minor": 2
}
