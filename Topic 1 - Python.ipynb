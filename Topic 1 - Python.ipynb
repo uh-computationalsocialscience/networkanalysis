{
 "cells": [
  {
   "cell_type": "code",
   "execution_count": null,
   "metadata": {},
   "outputs": [],
   "source": [
    "import networkx as nx\n",
    "import numpy as np"
   ]
  },
  {
   "cell_type": "markdown",
   "metadata": {},
   "source": [
    "## Load network data\n",
    "\n",
    "In this case the data file is in edgelist format. The network could be also read as [adjacency matrix](https://networkx.github.io/documentation/stable/reference/readwrite/adjlist.html#id1) or [various other formats](https://networkx.github.io/documentation/stable/reference/readwrite/index.html) which allows also putting in metadata which describes nodes."
   ]
  },
  {
   "cell_type": "code",
   "execution_count": null,
   "metadata": {},
   "outputs": [],
   "source": [
    "## note: network_simple.csv includes header line, let's remove it\n",
    "data = open('data/network_simple.csv', 'rb')\n",
    "data.readline() ## read header line here\n",
    "network  = nx.read_edgelist( data, delimiter = ',' )"
   ]
  },
  {
   "cell_type": "markdown",
   "metadata": {},
   "source": [
    "Guess what these two measurements could be?"
   ]
  },
  {
   "cell_type": "code",
   "execution_count": null,
   "metadata": {},
   "outputs": [],
   "source": [
    "print( len( network.edges ) )\n",
    "print( len( network.nodes ) )"
   ]
  },
  {
   "cell_type": "markdown",
   "metadata": {},
   "source": [
    "## Degree\n",
    "\n",
    "In networks, degree measures the number of ties each connection has.\n",
    "\n",
    "- Exercise: compare how degree changes if the network is directed or non-directed. Why?\n",
    "- Exercise: Check the [documentation](https://networkx.github.io/documentation/stable/reference/classes/generated/networkx.DiGraph.in_degree.html#networkx.DiGraph.in_degree) to calculate only _in_-degree and _out_-degree."
   ]
  },
  {
   "cell_type": "code",
   "execution_count": null,
   "metadata": {},
   "outputs": [],
   "source": [
    "network.degree()['1']\n",
    "network.degree()['2']\n",
    "\n",
    "degrees = list( network.degree() )\n",
    "degrees = map( lambda x: x[1], degrees )\n",
    "degrees = list( degrees )\n",
    "np.mean( degrees )"
   ]
  },
  {
   "cell_type": "markdown",
   "metadata": {},
   "source": [
    "## Centrality measurements\n",
    "\n",
    "![Example of network where A connects two clusters](images/betweeness.png \"\")\n",
    "\n",
    "* What kind of phenomena might have a network like this? Give three examples.\n",
    "* What is the degree of node `A` and what is the degree of node `B`?\n",
    "* What happens in the network if node `A` is removed?\n",
    "\n",
    "As the example illustrates, degree alone does not fully account which roles nodes have in the network.\n",
    "Therefore, network analysis has established various other tools to describe nodes in the network, such as\n",
    "\n",
    "* [betweeness_centrality](https://networkx.github.io/documentation/stable/reference/algorithms/generated/networkx.algorithms.centrality.betweenness_centrality.html#networkx.algorithms.centrality.betweenness_centrality)\n",
    "* [closeness_centrality](https://networkx.github.io/documentation/stable/reference/algorithms/generated/networkx.algorithms.centrality.closeness_centrality.html#networkx.algorithms.centrality.closeness_centrality)\n",
    "* [eigenvector_centrality](https://networkx.github.io/documentation/stable/reference/algorithms/generated/networkx.algorithms.centrality.eigenvector_centrality.html#networkx.algorithms.centrality.eigenvector_centrality)\n",
    "\n",
    "(See complete list [here](https://networkx.github.io/documentation/stable/reference/algorithms/centrality.html).)\n",
    "\n",
    "Try out these and explore how different scores give different idea of nodes in the network."
   ]
  },
  {
   "cell_type": "code",
   "execution_count": null,
   "metadata": {},
   "outputs": [],
   "source": [
    "nx.betweenness_centrality( network )"
   ]
  },
  {
   "cell_type": "code",
   "execution_count": null,
   "metadata": {},
   "outputs": [],
   "source": [
    "nx.betweenness_centrality( network )['1'] ## only value for node 1"
   ]
  },
  {
   "cell_type": "markdown",
   "metadata": {},
   "source": [
    "## Beyond node-level analysis\n",
    "\n",
    "Above examples have focused on understanding measurements at the node level.\n",
    "However, networks can also be studies as a whole. These include\n",
    "\n",
    "* [density](https://networkx.github.io/documentation/stable/reference/generated/networkx.classes.function.density.html)\n",
    "* [diameter](https://networkx.github.io/documentation/stable/reference/algorithms/generated/networkx.algorithms.distance_measures.diameter.html#networkx.algorithms.distance_measures.diameter)\n",
    "* [transitivity](https://networkx.github.io/documentation/stable/reference/algorithms/generated/networkx.algorithms.cluster.transitivity.html)"
   ]
  },
  {
   "cell_type": "code",
   "execution_count": null,
   "metadata": {},
   "outputs": [],
   "source": [
    "nx.density( network )"
   ]
  },
  {
   "cell_type": "markdown",
   "metadata": {},
   "source": [
    "## Final thinking\n",
    "\n",
    "Where could you use these different measurements?"
   ]
  },
  {
   "cell_type": "code",
   "execution_count": null,
   "metadata": {},
   "outputs": [],
   "source": []
  }
 ],
 "metadata": {
  "kernelspec": {
   "display_name": "Python 3",
   "language": "python",
   "name": "python3"
  },
  "language_info": {
   "codemirror_mode": {
    "name": "ipython",
    "version": 3
   },
   "file_extension": ".py",
   "mimetype": "text/x-python",
   "name": "python",
   "nbconvert_exporter": "python",
   "pygments_lexer": "ipython3",
   "version": "3.8.6"
  }
 },
 "nbformat": 4,
 "nbformat_minor": 4
}
