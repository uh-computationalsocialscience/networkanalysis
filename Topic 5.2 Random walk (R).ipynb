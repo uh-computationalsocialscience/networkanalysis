{
 "cells": [
  {
   "cell_type": "code",
   "execution_count": null,
   "metadata": {},
   "outputs": [],
   "source": [
    "library(igraph)\n",
    "\n",
    "data <- read.csv('data/org_x_collaboration.csv', header = F )\n",
    "matrix <- as.matrix( data )\n",
    "\n",
    "g <- graph_from_adjacency_matrix( matrix, 'directed' )\n",
    "\n",
    "## add metadata\n",
    "V(g)$gender <- as.factor( sample(0:1, length( V(g) ), replace = TRUE ) )\n",
    "V(g)$age <- sample(18:63, length( V(g) ), replace = TRUE )\n",
    "V(g)$education <- as.factor( sample(1:9, length( V(g) ), replace = TRUE ) )"
   ]
  },
  {
   "cell_type": "code",
   "execution_count": null,
   "metadata": {},
   "outputs": [],
   "source": [
    "same = 0\n",
    "different = 0\n",
    "\n",
    "for( i in 0:100 ) {\n",
    "    \n",
    "    walk <- random_walk(g, start = 2, steps = 5)\n",
    "    final_node <- tail( walk, n = 1 ) ## get the last element\n",
    "    \n",
    "    \n",
    "    start_gender <- V(g)$gender[2]\n",
    "    end_gender <- V(g)[ V(g) == tail( walk, n = 1 ) ]$gender\n",
    "    \n",
    "    if( start_gender == end_gender ) {\n",
    "        same <- same + 1\n",
    "    } else {\n",
    "        different <- different + 1\n",
    "    }\n",
    "    \n",
    "}\n",
    "\n",
    "print( same )\n",
    "print( different )"
   ]
  },
  {
   "cell_type": "markdown",
   "metadata": {},
   "source": [
    "## Tasks\n",
    "\n",
    "* increase the number of random walks from 100 to 1000 (why would you do this?)\n",
    "* instead of always starting from node 2, start from a random node in the network\n",
    "* try different step lenghts, does it make a difference?\n",
    "* test if there is *any* different genders in the path, not only the final node"
   ]
  },
  {
   "cell_type": "code",
   "execution_count": null,
   "metadata": {},
   "outputs": [],
   "source": []
  }
 ],
 "metadata": {
  "kernelspec": {
   "display_name": "R",
   "language": "R",
   "name": "ir"
  },
  "language_info": {
   "codemirror_mode": "r",
   "file_extension": ".r",
   "mimetype": "text/x-r-source",
   "name": "R",
   "pygments_lexer": "r",
   "version": "3.6.0"
  }
 },
 "nbformat": 4,
 "nbformat_minor": 2
}
